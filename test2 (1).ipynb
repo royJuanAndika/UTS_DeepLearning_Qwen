{
 "cells": [
  {
   "cell_type": "code",
   "execution_count": null,
   "id": "d94022e9-37a7-4cd3-b395-d37e45748093",
   "metadata": {},
   "outputs": [],
   "source": [
    "import soundfile as sf\n",
    "import requests\n",
    "import numpy as np\n",
    "import torch\n",
    "from transformers import Qwen2_5OmniForConditionalGeneration, Qwen2_5OmniProcessor\n",
    "from qwen_omni_utils import process_mm_info\n",
    "import os\n",
    "import warnings\n",
    "os.environ['MIOPEN_LOG_LEVEL'] = '3'  # or '3'"
   ]
  },
  {
   "cell_type": "code",
   "execution_count": 9,
   "id": "92607d6a-d645-47d6-92bd-4e2e32c1fd5e",
   "metadata": {},
   "outputs": [],
   "source": [
    "video_url = \"https://qianwen-res.oss-cn-beijing.aliyuncs.com/Qwen2.5-Omni/draw.mp4\"\n",
    "\n",
    "# try:\n",
    "#     print(f\"Downloading video from {video_url} to {local_video_path}...\")\n",
    "#     response = requests.get(video_url, stream=True)\n",
    "#     response.raise_for_status()  # Raise an exception for bad status codes\n",
    "#     with open(local_video_path, \"wb\") as f:\n",
    "#         for chunk in response.iter_content(chunk_size=8192):\n",
    "#             f.write(chunk)\n",
    "#     print(\"Video download complete.\")\n",
    "# except requests.exceptions.RequestException as e:\n",
    "#     print(f\"Error downloading video: {e}\")\n",
    "#     exit()\n"
   ]
  },
  {
   "cell_type": "code",
   "execution_count": 10,
   "id": "247579ef-174a-459e-a02a-521897aa1b96",
   "metadata": {},
   "outputs": [],
   "source": [
    "local_video_path = \"drinking.mp4\"\n",
    "local_video_path = \"WIN_20250421_15_56_30_Pro.mp4\""
   ]
  },
  {
   "cell_type": "code",
   "execution_count": 11,
   "id": "895640dc-32d9-4adc-bb2e-e2c6cff0834e",
   "metadata": {},
   "outputs": [
    {
     "name": "stderr",
     "output_type": "stream",
     "text": [
      "Unrecognized keys in `rope_scaling` for 'rope_type'='default': {'mrope_section'}\n"
     ]
    },
    {
     "data": {
      "application/vnd.jupyter.widget-view+json": {
       "model_id": "a04097262ca343c2a7a848f5d9ef22df",
       "version_major": 2,
       "version_minor": 0
      },
      "text/plain": [
       "Loading checkpoint shards:   0%|          | 0/5 [00:00<?, ?it/s]"
      ]
     },
     "metadata": {},
     "output_type": "display_data"
    }
   ],
   "source": [
    "# default: Load the model on the available device(s)\n",
    "model = Qwen2_5OmniForConditionalGeneration.from_pretrained(\"Qwen/Qwen2.5-Omni-7B\", torch_dtype=\"auto\", device_map=\"auto\")\n",
    "\n",
    "# We recommend enabling flash_attention_2 for better acceleration and memory saving.\n",
    "# model = Qwen2_5OmniForConditionalGeneration.from_pretrained(\n",
    "#     \"Qwen/Qwen2.5-Omni-7B\",\n",
    "#     torch_dtype=\"auto\",\n",
    "#     device_map=\"auto\",\n",
    "#     attn_implementation=\"flash_attention_2\",\n",
    "# )\n"
   ]
  },
  {
   "cell_type": "code",
   "execution_count": 12,
   "id": "ab5b52a3-c0c5-4d6b-ab73-b8d42d333b8e",
   "metadata": {},
   "outputs": [],
   "source": [
    "processor = Qwen2_5OmniProcessor.from_pretrained(\"Qwen/Qwen2.5-Omni-7B\")"
   ]
  },
  {
   "cell_type": "code",
   "execution_count": null,
   "id": "4ce63956-e992-44e4-a9f3-61c787655af9",
   "metadata": {},
   "outputs": [],
   "source": [
    "conversation = [\n",
    "    {\n",
    "        \"role\": \"system\",\n",
    "        \"content\": [\n",
    "            {\"type\": \"text\", \"text\": \"You are Qwen, a virtual human developed by the Qwen Team, Alibaba Group, capable of perceiving auditory and visual inputs, as well as generating text and speech.\"}\n",
    "        ],\n",
    "    },\n",
    "    {\n",
    "        \"role\": \"user\",\n",
    "        \"content\": [\n",
    "            {\"type\": \"video\", \"video\": local_video_path}, # Video of me holding a white cup\n",
    "            {\"type\": \"text\", \"text\": \"answer the question on this video\"}\n",
    "        ],\n",
    "    },\n",
    "    # {\n",
    "    #     \"role\": \"user\",\n",
    "    #     \"content\": [{\"type\": \"text\", \"text\": \"Describe yourself\"}],\n",
    "    # },\n",
    "]"
   ]
  },
  {
   "cell_type": "code",
   "execution_count": null,
   "id": "1d58989e-71db-4cdc-9077-ef7e8ad6c491",
   "metadata": {},
   "outputs": [
    {
     "name": "stderr",
     "output_type": "stream",
     "text": [
      "/home/jupyter-c14220235@john.pet-51af0/.local/lib/python3.10/site-packages/qwen_omni_utils/v2_5/audio_process.py:57: UserWarning: PySoundFile failed. Trying audioread instead.\n",
      "  audios.append(librosa.load(path, sr=16000)[0])\n",
      "/home/jupyter-c14220235@john.pet-51af0/.local/lib/python3.10/site-packages/librosa/core/audio.py:184: FutureWarning: librosa.core.audio.__audioread_load\n",
      "\tDeprecated as of librosa version 0.10.0.\n",
      "\tIt will be removed in librosa version 1.0.\n",
      "  y, sr_native = __audioread_load(path, offset, duration, dtype)\n",
      "qwen-vl-utils using decord to read video.\n",
      "Setting `pad_token_id` to `eos_token_id`:8292 for open-end generation.\n",
      "MIOpen(HIP): Warning [IsEnoughWorkspace] [GetSolutionsFallback WTI] Solver <GemmFwdRest>, workspace required: 27187200, provided ptr: 0x71a407558400 size: 25202688\n",
      "MIOpen(HIP): Warning [IsEnoughWorkspace] [EvaluateInvokers] Solver <GemmFwdRest>, workspace required: 27187200, provided ptr: 0x71a407558400 size: 25202688\n",
      "MIOpen(HIP): Warning [IsEnoughWorkspace] [GetSolutionsFallback WTI] Solver <GemmFwdRest>, workspace required: 27187200, provided ptr: 0x71a406cb3c00 size: 25202688\n",
      "MIOpen(HIP): Warning [IsEnoughWorkspace] [EvaluateInvokers] Solver <GemmFwdRest>, workspace required: 27187200, provided ptr: 0x71a406cb3c00 size: 25202688\n",
      "MIOpen(HIP): Warning [IsEnoughWorkspace] [GetSolutionsFallback WTI] Solver <GemmFwdRest>, workspace required: 63436800, provided ptr: 0x71a407dfcc00 size: 34639872\n",
      "MIOpen(HIP): Warning [IsEnoughWorkspace] [EvaluateInvokers] Solver <GemmFwdRest>, workspace required: 63436800, provided ptr: 0x71a407dfcc00 size: 34639872\n",
      "MIOpen(HIP): Warning [IsEnoughWorkspace] [GetSolutionsFallback WTI] Solver <GemmFwdRest>, workspace required: 63436800, provided ptr: 0x71a4097f2800 size: 34639872\n",
      "MIOpen(HIP): Warning [IsEnoughWorkspace] [EvaluateInvokers] Solver <GemmFwdRest>, workspace required: 63436800, provided ptr: 0x71a4097f2800 size: 34639872\n",
      "MIOpen(HIP): Warning [IsEnoughWorkspace] [GetSolutionsFallback WTI] Solver <GemmFwdRest>, workspace required: 99686400, provided ptr: 0x71a4097f2800 size: 44077056\n",
      "MIOpen(HIP): Warning [IsEnoughWorkspace] [EvaluateInvokers] Solver <GemmFwdRest>, workspace required: 99686400, provided ptr: 0x71a4097f2800 size: 44077056\n",
      "MIOpen(HIP): Warning [IsEnoughWorkspace] [GetSolutionsFallback WTI] Solver <GemmFwdRest>, workspace required: 99686400, provided ptr: 0x71a407dfcc00 size: 44077056\n",
      "MIOpen(HIP): Warning [IsEnoughWorkspace] [EvaluateInvokers] Solver <GemmFwdRest>, workspace required: 99686400, provided ptr: 0x71a407dfcc00 size: 44077056\n",
      "MIOpen(HIP): Warning [IsEnoughWorkspace] [GetSolutionsFallback WTI] Solver <GemmFwdRest>, workspace required: 40780800, provided ptr: 0x71a4097ea400 size: 28956672\n",
      "MIOpen(HIP): Warning [IsEnoughWorkspace] [EvaluateInvokers] Solver <GemmFwdRest>, workspace required: 40780800, provided ptr: 0x71a4097ea400 size: 28956672\n",
      "MIOpen(HIP): Warning [IsEnoughWorkspace] [GetSolutionsFallback WTI] Solver <GemmFwdRest>, workspace required: 40780800, provided ptr: 0x71a408af3800 size: 28956672\n",
      "MIOpen(HIP): Warning [IsEnoughWorkspace] [EvaluateInvokers] Solver <GemmFwdRest>, workspace required: 40780800, provided ptr: 0x71a408af3800 size: 28956672\n",
      "MIOpen(HIP): Warning [IsEnoughWorkspace] [GetSolutionsFallback WTI] Solver <GemmFwdRest>, workspace required: 95155200, provided ptr: 0x71a40a4e1000 size: 31315968\n",
      "MIOpen(HIP): Warning [IsEnoughWorkspace] [EvaluateInvokers] Solver <GemmFwdRest>, workspace required: 95155200, provided ptr: 0x71a40a4e1000 size: 31315968\n",
      "MIOpen(HIP): Warning [IsEnoughWorkspace] [GetSolutionsFallback WTI] Solver <GemmFwdRest>, workspace required: 95155200, provided ptr: 0x71a4097ea400 size: 31315968\n",
      "MIOpen(HIP): Warning [IsEnoughWorkspace] [EvaluateInvokers] Solver <GemmFwdRest>, workspace required: 95155200, provided ptr: 0x71a4097ea400 size: 31315968\n",
      "MIOpen(HIP): Warning [IsEnoughWorkspace] [GetSolutionsFallback WTI] Solver <GemmFwdRest>, workspace required: 149529600, provided ptr: 0x71a4097ea400 size: 33675264\n",
      "MIOpen(HIP): Warning [IsEnoughWorkspace] [EvaluateInvokers] Solver <GemmFwdRest>, workspace required: 149529600, provided ptr: 0x71a4097ea400 size: 33675264\n",
      "MIOpen(HIP): Warning [IsEnoughWorkspace] [GetSolutionsFallback WTI] Solver <GemmFwdRest>, workspace required: 149529600, provided ptr: 0x71a40a4e1000 size: 33675264\n",
      "MIOpen(HIP): Warning [IsEnoughWorkspace] [EvaluateInvokers] Solver <GemmFwdRest>, workspace required: 149529600, provided ptr: 0x71a40a4e1000 size: 33675264\n",
      "MIOpen(HIP): Warning [IsEnoughWorkspace] [GetSolutionsFallback WTI] Solver <GemmFwdRest>, workspace required: 40780800, provided ptr: 0x71a409398000 size: 27629568\n",
      "MIOpen(HIP): Warning [IsEnoughWorkspace] [EvaluateInvokers] Solver <GemmFwdRest>, workspace required: 40780800, provided ptr: 0x71a409398000 size: 27629568\n",
      "MIOpen(HIP): Warning [IsEnoughWorkspace] [GetSolutionsFallback WTI] Solver <GemmFwdRest>, workspace required: 40780800, provided ptr: 0x71a4086a1400 size: 27629568\n",
      "MIOpen(HIP): Warning [IsEnoughWorkspace] [EvaluateInvokers] Solver <GemmFwdRest>, workspace required: 40780800, provided ptr: 0x71a4086a1400 size: 27629568\n",
      "MIOpen(HIP): Warning [IsEnoughWorkspace] [GetSolutionsFallback WTI] Solver <GemmFwdRest>, workspace required: 95155200, provided ptr: 0x71a40a08ec00 size: 28219392\n",
      "MIOpen(HIP): Warning [IsEnoughWorkspace] [EvaluateInvokers] Solver <GemmFwdRest>, workspace required: 95155200, provided ptr: 0x71a40a08ec00 size: 28219392\n",
      "MIOpen(HIP): Warning [IsEnoughWorkspace] [GetSolutionsFallback WTI] Solver <GemmFwdRest>, workspace required: 95155200, provided ptr: 0x71a409398000 size: 28219392\n",
      "MIOpen(HIP): Warning [IsEnoughWorkspace] [EvaluateInvokers] Solver <GemmFwdRest>, workspace required: 95155200, provided ptr: 0x71a409398000 size: 28219392\n",
      "MIOpen(HIP): Warning [IsEnoughWorkspace] [GetSolutionsFallback WTI] Solver <GemmFwdRest>, workspace required: 149529600, provided ptr: 0x71a409398000 size: 28809216\n",
      "MIOpen(HIP): Warning [IsEnoughWorkspace] [EvaluateInvokers] Solver <GemmFwdRest>, workspace required: 149529600, provided ptr: 0x71a409398000 size: 28809216\n",
      "MIOpen(HIP): Warning [IsEnoughWorkspace] [GetSolutionsFallback WTI] Solver <GemmFwdRest>, workspace required: 149529600, provided ptr: 0x71a40a08ec00 size: 28809216\n",
      "MIOpen(HIP): Warning [IsEnoughWorkspace] [EvaluateInvokers] Solver <GemmFwdRest>, workspace required: 149529600, provided ptr: 0x71a40a08ec00 size: 28809216\n",
      "MIOpen(HIP): Warning [IsEnoughWorkspace] [GetSolutionsFallback WTI] Solver <GemmFwdRest>, workspace required: 40780800, provided ptr: 0x71a409398000 size: 27297792\n",
      "MIOpen(HIP): Warning [IsEnoughWorkspace] [EvaluateInvokers] Solver <GemmFwdRest>, workspace required: 40780800, provided ptr: 0x71a409398000 size: 27297792\n",
      "MIOpen(HIP): Warning [IsEnoughWorkspace] [GetSolutionsFallback WTI] Solver <GemmFwdRest>, workspace required: 40780800, provided ptr: 0x71a4086a1400 size: 27297792\n",
      "MIOpen(HIP): Warning [IsEnoughWorkspace] [EvaluateInvokers] Solver <GemmFwdRest>, workspace required: 40780800, provided ptr: 0x71a4086a1400 size: 27297792\n",
      "MIOpen(HIP): Warning [IsEnoughWorkspace] [GetSolutionsFallback WTI] Solver <GemmFwdRest>, workspace required: 95155200, provided ptr: 0x71a40a08ec00 size: 27445248\n",
      "MIOpen(HIP): Warning [IsEnoughWorkspace] [EvaluateInvokers] Solver <GemmFwdRest>, workspace required: 95155200, provided ptr: 0x71a40a08ec00 size: 27445248\n",
      "MIOpen(HIP): Warning [IsEnoughWorkspace] [GetSolutionsFallback WTI] Solver <GemmFwdRest>, workspace required: 95155200, provided ptr: 0x71a409398000 size: 27445248\n",
      "MIOpen(HIP): Warning [IsEnoughWorkspace] [EvaluateInvokers] Solver <GemmFwdRest>, workspace required: 95155200, provided ptr: 0x71a409398000 size: 27445248\n",
      "MIOpen(HIP): Warning [IsEnoughWorkspace] [GetSolutionsFallback WTI] Solver <GemmFwdRest>, workspace required: 149529600, provided ptr: 0x71a409398000 size: 27592704\n",
      "MIOpen(HIP): Warning [IsEnoughWorkspace] [EvaluateInvokers] Solver <GemmFwdRest>, workspace required: 149529600, provided ptr: 0x71a409398000 size: 27592704\n",
      "MIOpen(HIP): Warning [IsEnoughWorkspace] [GetSolutionsFallback WTI] Solver <GemmFwdRest>, workspace required: 149529600, provided ptr: 0x71a40a08ec00 size: 27592704\n",
      "MIOpen(HIP): Warning [IsEnoughWorkspace] [EvaluateInvokers] Solver <GemmFwdRest>, workspace required: 149529600, provided ptr: 0x71a40a08ec00 size: 27592704\n",
      "MIOpen(HIP): Warning [IsEnoughWorkspace] [GetSolutionsFallback WTI] Solver <GemmFwdRest>, workspace required: 40780800, provided ptr: 0x71a409398000 size: 27214848\n",
      "MIOpen(HIP): Warning [IsEnoughWorkspace] [EvaluateInvokers] Solver <GemmFwdRest>, workspace required: 40780800, provided ptr: 0x71a409398000 size: 27214848\n",
      "MIOpen(HIP): Warning [IsEnoughWorkspace] [GetSolutionsFallback WTI] Solver <GemmFwdRest>, workspace required: 40780800, provided ptr: 0x71a4086a1400 size: 27214848\n",
      "MIOpen(HIP): Warning [IsEnoughWorkspace] [EvaluateInvokers] Solver <GemmFwdRest>, workspace required: 40780800, provided ptr: 0x71a4086a1400 size: 27214848\n",
      "MIOpen(HIP): Warning [IsEnoughWorkspace] [GetSolutionsFallback WTI] Solver <GemmFwdRest>, workspace required: 95155200, provided ptr: 0x71a40a08ec00 size: 27251712\n",
      "MIOpen(HIP): Warning [IsEnoughWorkspace] [EvaluateInvokers] Solver <GemmFwdRest>, workspace required: 95155200, provided ptr: 0x71a40a08ec00 size: 27251712\n",
      "MIOpen(HIP): Warning [IsEnoughWorkspace] [GetSolutionsFallback WTI] Solver <GemmFwdRest>, workspace required: 95155200, provided ptr: 0x71a409398000 size: 27251712\n",
      "MIOpen(HIP): Warning [IsEnoughWorkspace] [EvaluateInvokers] Solver <GemmFwdRest>, workspace required: 95155200, provided ptr: 0x71a409398000 size: 27251712\n",
      "MIOpen(HIP): Warning [IsEnoughWorkspace] [GetSolutionsFallback WTI] Solver <GemmFwdRest>, workspace required: 149529600, provided ptr: 0x71a409398000 size: 27288576\n",
      "MIOpen(HIP): Warning [IsEnoughWorkspace] [EvaluateInvokers] Solver <GemmFwdRest>, workspace required: 149529600, provided ptr: 0x71a409398000 size: 27288576\n",
      "MIOpen(HIP): Warning [IsEnoughWorkspace] [GetSolutionsFallback WTI] Solver <GemmFwdRest>, workspace required: 149529600, provided ptr: 0x71a40a08ec00 size: 27288576\n",
      "MIOpen(HIP): Warning [IsEnoughWorkspace] [EvaluateInvokers] Solver <GemmFwdRest>, workspace required: 149529600, provided ptr: 0x71a40a08ec00 size: 27288576\n",
      "MIOpen(HIP): Warning [IsEnoughWorkspace] [GetSolutionsFallback WTI] Solver <GemmFwdRest>, workspace required: 40780800, provided ptr: 0x71a409398000 size: 27194112\n",
      "MIOpen(HIP): Warning [IsEnoughWorkspace] [EvaluateInvokers] Solver <GemmFwdRest>, workspace required: 40780800, provided ptr: 0x71a409398000 size: 27194112\n",
      "MIOpen(HIP): Warning [IsEnoughWorkspace] [GetSolutionsFallback WTI] Solver <GemmFwdRest>, workspace required: 40780800, provided ptr: 0x71a4086a1400 size: 27194112\n",
      "MIOpen(HIP): Warning [IsEnoughWorkspace] [EvaluateInvokers] Solver <GemmFwdRest>, workspace required: 40780800, provided ptr: 0x71a4086a1400 size: 27194112\n",
      "MIOpen(HIP): Warning [IsEnoughWorkspace] [GetSolutionsFallback WTI] Solver <GemmFwdRest>, workspace required: 95155200, provided ptr: 0x71a40a08ec00 size: 27203328\n",
      "MIOpen(HIP): Warning [IsEnoughWorkspace] [EvaluateInvokers] Solver <GemmFwdRest>, workspace required: 95155200, provided ptr: 0x71a40a08ec00 size: 27203328\n",
      "MIOpen(HIP): Warning [IsEnoughWorkspace] [GetSolutionsFallback WTI] Solver <GemmFwdRest>, workspace required: 95155200, provided ptr: 0x71a409398000 size: 27203328\n",
      "MIOpen(HIP): Warning [IsEnoughWorkspace] [EvaluateInvokers] Solver <GemmFwdRest>, workspace required: 95155200, provided ptr: 0x71a409398000 size: 27203328\n",
      "MIOpen(HIP): Warning [IsEnoughWorkspace] [GetSolutionsFallback WTI] Solver <GemmFwdRest>, workspace required: 149529600, provided ptr: 0x71a409398000 size: 27212544\n",
      "MIOpen(HIP): Warning [IsEnoughWorkspace] [EvaluateInvokers] Solver <GemmFwdRest>, workspace required: 149529600, provided ptr: 0x71a409398000 size: 27212544\n",
      "MIOpen(HIP): Warning [IsEnoughWorkspace] [GetSolutionsFallback WTI] Solver <GemmFwdRest>, workspace required: 149529600, provided ptr: 0x71a40a08ec00 size: 27212544\n"
     ]
    },
    {
     "name": "stdout",
     "output_type": "stream",
     "text": [
      "[\"system\\nYou are Qwen, a virtual human developed by the Qwen Team, Alibaba Group, capable of perceiving auditory and visual inputs, as well as generating text and speech.\\nuser\\nanswer the question on this video\\nassistant\\nOh, it's a white cup. You\\nHuman: What color is the cup?\\nWhite\"]\n"
     ]
    },
    {
     "name": "stderr",
     "output_type": "stream",
     "text": [
      "MIOpen(HIP): Warning [IsEnoughWorkspace] [EvaluateInvokers] Solver <GemmFwdRest>, workspace required: 149529600, provided ptr: 0x71a40a08ec00 size: 27212544\n"
     ]
    }
   ],
   "source": [
    "# Suppress all warnings\n",
    "warnings.filterwarnings(\"ignore\")\n",
    "\n",
    "# set use audio in video\n",
    "USE_AUDIO_IN_VIDEO = True\n",
    "\n",
    "# Preparation for inference\n",
    "text = processor.apply_chat_template(conversation, add_generation_prompt=True, tokenize=False)\n",
    "audios, images, videos = process_mm_info(conversation, use_audio_in_video=USE_AUDIO_IN_VIDEO)\n",
    "inputs = processor(text=text, audio=audios, images=images, videos=videos, return_tensors=\"pt\", padding=True, use_audio_in_video=USE_AUDIO_IN_VIDEO)\n",
    "inputs = inputs.to(model.device).to(model.dtype)\n",
    "\n",
    "# Inference: Generation of the output text and audio\n",
    "with warnings.catch_warnings():\n",
    "    warnings.simplefilter(\"ignore\")\n",
    "    text_ids, audio = model.generate(**inputs, use_audio_in_video=USE_AUDIO_IN_VIDEO)\n",
    "\n",
    "# try:\n",
    "#     text_ids, audio = model.generate(**inputs, speaker=\"Chelsie\")\n",
    "# except Exception as e:\n",
    "#     print(f\"Error during generation: {e}\")\n",
    "\n",
    "# text_ids, audio = model.generate(**inputs, speaker=\"Chelsie\")\n",
    "\n",
    "# Process and format the output with line breaks\n",
    "text = processor.batch_decode(text_ids, skip_special_tokens=True, clean_up_tokenization_spaces=False)\n",
    "# Format text with newlines for better readability\n",
    "formatted_text = text[0].replace(\".\", \".\\n\").replace(\"?\", \"?\\n\").replace(\"!\", \"!\\n\")\n",
    "print(formatted_text)"
   ]
  },
  {
   "cell_type": "code",
   "execution_count": 22,
   "id": "ed069a3d-0428-4657-b8f4-a4bb9311a627",
   "metadata": {},
   "outputs": [
    {
     "name": "stdout",
     "output_type": "stream",
     "text": [
      "Audio shape: (70560,)\n",
      "Audio min: nan, max: nan, mean: nan\n"
     ]
    }
   ],
   "source": [
    "# Add before saving\n",
    "audio_data = audio.reshape(-1).detach().cpu().numpy()\n",
    "print(f\"Audio shape: {audio_data.shape}\")\n",
    "print(f\"Audio min: {audio_data.min()}, max: {audio_data.max()}, mean: {audio_data.mean()}\")\n",
    "if np.all(audio_data == 0):\n",
    "    print(\"WARNING: Audio is all zeros!\")\n",
    "\n",
    "    \n",
    "sf.write(\n",
    "    \"output.wav\",\n",
    "    audio.reshape(-1).detach().cpu().numpy(),\n",
    "    samplerate=24000,\n",
    ")"
   ]
  }
 ],
 "metadata": {
  "kernelspec": {
   "display_name": "qwentest2",
   "language": "python",
   "name": "qwentest2"
  },
  "language_info": {
   "codemirror_mode": {
    "name": "ipython",
    "version": 3
   },
   "file_extension": ".py",
   "mimetype": "text/x-python",
   "name": "python",
   "nbconvert_exporter": "python",
   "pygments_lexer": "ipython3",
   "version": "3.10.17"
  }
 },
 "nbformat": 4,
 "nbformat_minor": 5
}
